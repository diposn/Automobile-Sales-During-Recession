# Importing necessary libraries
%pip install seaborn
%pip install folium

import numpy as np
import pandas as pd
import matplotlib as mpl
import matplotlib.pyplot as plt
import seaborn as sns
import folium
from js import fetch
import io

# Downloading and reading the dataset
URL = "https://cf-courses-data.s3.us.cloud-object-storage.appdomain.cloud/IBMDeveloperSkillsNetwork-DV0101EN-SkillsNetwork/Data%20Files/historical_automobile_sales.csv"
resp = await fetch(URL)
text = io.BytesIO((await resp.arrayBuffer()).to_py())
df = pd.read_csv(text)
print('Data downloaded and read into a dataframe!')

# Exploratory Data Analysis

## Descriptive statistics
df.describe()

## Column names
df.columns()

# Line plot of automobile sales over the years
df_line = df.groupby(df['Year'])['Automobile_Sales'].mean()

plt.figure(figsize=(10, 6))
df_line.plot(kind='line')
plt.xlabel('Year')
plt.ylabel('Sales Amount')
plt.title('Automobile Sales')
plt.show()

# Line plot of automobile sales over the years during recession periods
plt.figure(figsize=(10, 6))
df_line = df.groupby(df['Year'])['Automobile_Sales'].mean()
df_line.plot(kind='line')
plt.xticks(list(range(1980, 2024)), rotation=75)
plt.xlabel('Year')
plt.ylabel('Sales Amount')
plt.title('Automobile Sales during Recession')
plt.text(1980, 500, '1980-82 Recession')
plt.text(1991, 500, '1991 Recession')
plt.text(1999, 590, '2000-01 Recession')
plt.text(2007, 500, '2007-09 Recession')
plt.text(2018.5, 1900, '2020 Recession')
plt.legend()
plt.show()

# Line plot of different car sales over the years during recession periods
df_Mline = df.groupby(['Year', 'Vehicle_Type'], as_index=False)['Automobile_Sales'].sum()
df_Mline.set_index('Year', inplace=True)
df_Mline = df_Mline.groupby(['Vehicle_Type'])['Automobile_Sales']
df_Mline.plot(kind='line')
df['Vehicle_Type'] = df['Vehicle_Type'].replace({
    'Executivecar': 'Executive Car',
    'Superminicar': 'Super mini car',
    'Mediumfamilycar': 'Medium family car',
    'Smallfamiliycar': 'Small family car'
})
plt.xlabel('YEAR')
plt.ylabel('Automobile Sold')
plt.title('Different Cars Sales During Recession')
plt.legend()
plt.show()

# Bar plot of median automobile sales during recession vs non-recession periods
new_df = df.groupby('Recession')['Automobile_Sales'].mean().reset_index()

plt.figure(figsize=(10, 6))
sns.barplot(x='Recession', y='Automobile_Sales', color='steelblue', data=new_df)
plt.title('Median Automobile Sales During Recession vs Non-Recession')
plt.xlabel('Year')
plt.ylabel('Automobiles Sold')
plt.xticks('')
plt.show()

# Bar plot of average automobile sales during recession vs non-recession periods by vehicle type
rec_data = df[df['Recession'] == 1]
non_rec_data = df[df['Recession'] == 0]

plt.figure(figsize=(10, 6))
sns.barplot(x='Recession', y='Automobile_Sales', hue='Vehicle_Type', data=dd)
plt.xticks(ticks=[0, 1], labels=['Non-Recession', 'Recession'])
plt.xlabel('Recession Status')
plt.ylabel('Average Automobile Sales')
plt.title('Sales during Recession vs Non-Recession Period')
plt.show()

# Line plots of GDP variation during recession and non-recession periods
plt.figure(figsize=(12, 6))

# Subplot 1
plt.subplot(1, 2, 1)
sns.lineplot(x='Year', y='GDP', data=rec_data, label='Recession')
plt.xlabel('Year')
plt.ylabel('GDP')
plt.title('GDP Variation during Recession Period')
plt.legend()

# Subplot 2
plt.subplot(1, 2, 2)
sns.lineplot(x='Year', y='GDP', data=non_rec_data, label='Non-Recession')
plt.xlabel('Year')
plt.ylabel('GDP')
plt.title('GDP Variation during Non-Recession Period')
plt.legend()

plt.tight_layout()
plt.show()

# Scatter plot of automobile sales during non-recession period with respect to month and seasonality weight
no_rec_data = df[df['Recession'] == 0]
size = non_rec_data['Seasonality_Weight']
sns.scatterplot(data=no_rec_data, x='Automobile_Sales', y='Month', size=size)

plt.title('Seasonality impact on Automobile Sales')
plt.xlabel('Month')
plt.ylabel('Automobile Sales')

plt.show()

# Scatter plot of automobile sales during recession period with respect to consumer confidence
recession_data = df[df['Recession'] == 1]

plt.figure(figsize=(10, 6))
plt.scatter(recession_data['Consumer_Confidence'], recession_data['Automobile_Sales'])
plt.title('Consumer Confidence and Automobile Sales during Recessions')
plt.xlabel('Consumer Confidence')
plt.ylabel('Automobile Sales')
plt.show()

# Scatter plot of automobile sales during recession period with respect to average vehicle price
recession_data = df[df['Recession'] == 1]

plt.figure(figsize=(10, 6))
plt.scatter(recession_data['Price'], recession_data['Automobile_Sales'])
plt.title('Relationship between Average Vehicle Price and Sales during Recessions')
plt.xlabel('Average Vehicle Price')
plt.ylabel('Automobile Sales')
plt.show()

# Pie chart of advertising expenditure during recession and non-recession periods
Rdata = df[df['Recession'] == 1]
NRdata = df[df['Recession'] == 0]

RAtotal = Rdata['Advertising_Expenditure'].sum()
NRAtotal = NRdata['Advertising_Expenditure'].sum()

plt.figure(figsize=(6, 4))

labels = ['Recession', 'Non-Recession']
sizes = [RAtotal, NRAtotal]
plt.pie(sizes, labels=labels, autopct='%1.1f%%', startangle=90)

plt.title('Advertising Expenditure during Recession and Non-Recession Periods')

plt.show()

# Pie chart of advertising expenditure during recession period by vehicle type
recession_data = df[df['Recession'] == 1]

advertisement_expenditure_by_type = recession_data.groupby('Vehicle_Type')['Advertising_Expenditure'].sum()

plt.figure(figsize=(6, 4))

labels = advertisement_expenditure_by_type.index
sizes = advertisement_expenditure_by_type.values

plt.pie(sizes, labels=labels, autopct='%1.1f%%', startangle=90)

plt.title('Advertisement Expenditure by Vehicle Type during Recession Period')

plt.show()

# Line plot of automobile sales during recession period with respect to unemployment rate
df_rec = df[df['Recession'] == 1]

plt.figure(figsize=(8, 6))
sns.lineplot(data=df_rec, x='unemployment_rate', y='Automobile_Sales',
             hue='Vehicle_Type', style='Vehicle_Type', markers='o', err_style=None)
plt.ylim(0, 900)
plt.xlabel('Automobile Sales')
plt.ylabel('Unemployment Rate Percentage')
plt.title('Effect of Unemployment Rate on Automobile Sales during Recession')
plt.legend(loc=(0, 0))
plt.show()

# Downloading the US states geojson file
from pyodide.http import pyfetch

async def download(url, filename):
    response = await pyfetch(url)
    if response.status == 200:
        with open(filename, "wb") as f:
            f.write(await response.bytes())

path = 'https://cf-courses-data.s3.us.cloud-object-storage.appdomain.cloud/IBMDeveloperSkillsNetwork-DV0101EN-SkillsNetwork/Data%20Files/us-states.json'
await download(path, "us-states.json")

# Creating a choropleth map of automobile sales during recession period by city
filename = "us-states.json"

sales_by_city = recession_data.groupby('City')['Automobile_Sales'].sum().reset_index()

map1 = folium.Map(location=[37.0, -99.700], zoom_start=4)

choropleth = folium.Choropleth(
    geo_data='us-states.json',
    data=sales_by_city,
    columns=['City', 'Automobile_Sales'],
    key_on='feature.properties.name',
    fill_color='BuGn',
    fill_opacity=0.65,
    line_opacity=0.4,
    legend_name='Automobile Sales during Recession'
).add_to(map1)

choropleth.geojson.add_child(
    folium.features.GeoJsonTooltip(['name'], labels=True)
)

map1
